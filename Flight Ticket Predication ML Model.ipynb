{
 "cells": [
  {
   "cell_type": "markdown",
   "id": "163c7026-6b48-4231-ba61-2b455282afb3",
   "metadata": {},
   "source": [
    "# Machine Learning Experiment Tracking: MLflow\n",
    "\n",
    "* Logging experiments, metrics, and models using MLflow.\n",
    "\n",
    "# Model Deployment:\n",
    "\n",
    "* Saving the trained model and encoders with joblib.\n",
    "* Building a web application using Flask to serve predictions based on user inputs.\n",
    "\n",
    "# Dockerfile:\n",
    "* Run your model without installing any environment any python libraries.\n",
    "* At the end of noteboook you will find link of dockerhub just copy and past it in your terminal."
   ]
  },
  {
   "cell_type": "code",
   "execution_count": 1,
   "id": "b7542e66-80aa-4746-95a2-2a8481f223b2",
   "metadata": {},
   "outputs": [],
   "source": [
    "import warnings\n",
    "warnings.filterwarnings('ignore')\n",
    "\n",
    "import pandas as pd\n",
    "import numpy as np\n",
    "import seaborn as sns\n",
    "import matplotlib.pyplot as plt\n",
    "\n",
    "from sklearn.model_selection import train_test_split\n",
    "from sklearn.preprocessing import  LabelEncoder, StandardScaler\n",
    "from sklearn.neighbors import KNeighborsRegressor\n",
    "from sklearn.tree import DecisionTreeRegressor\n",
    "\n",
    "from sklearn.ensemble import GradientBoostingRegressor, AdaBoostRegressor, RandomForestRegressor\n",
    "\n",
    "from sklearn.metrics import mean_absolute_error, accuracy_score, r2_score, f1_score, mean_squared_error\n",
    "\n",
    "\n",
    "import mlflow\n",
    "import mlflow.sklearn\n",
    "\n",
    "import joblib"
   ]
  },
  {
   "cell_type": "code",
   "execution_count": 2,
   "id": "f683dee9-35db-4eee-948e-e3697cf749a6",
   "metadata": {},
   "outputs": [
    {
     "data": {
      "text/plain": [
       "<Experiment: artifact_location='file:///C:/Users/Moin/Science%20learning/Kaggle/Kaggle.notebookv3/mlruns/887695829687885925', creation_time=1723197273349, experiment_id='887695829687885925', last_update_time=1723197273349, lifecycle_stage='active', name='Flight Ticket Predication ML Model', tags={}>"
      ]
     },
     "execution_count": 2,
     "metadata": {},
     "output_type": "execute_result"
    }
   ],
   "source": [
    "mlflow.set_experiment(\"Flight Ticket Predication ML Model\")"
   ]
  },
  {
   "cell_type": "code",
   "execution_count": 3,
   "id": "e2c239f7-87c3-4c11-a7ea-18ddb7ef241a",
   "metadata": {},
   "outputs": [],
   "source": [
    "path = (r\"E:\\DataSet\\Csv's\\Flight Price Prediction.csv\")\n",
    "\n",
    "df = pd.read_csv(path)"
   ]
  },
  {
   "cell_type": "code",
   "execution_count": 4,
   "id": "773e0bdb-0a41-4206-b1ff-eb59168f995d",
   "metadata": {},
   "outputs": [],
   "source": [
    "df = df.drop('Unnamed: 0',axis = 1,inplace=False)"
   ]
  },
  {
   "cell_type": "code",
   "execution_count": 5,
   "id": "82185142-4769-42f4-b57c-c0870aa407ed",
   "metadata": {},
   "outputs": [
    {
     "data": {
      "text/plain": [
       "(300153, 11)"
      ]
     },
     "execution_count": 5,
     "metadata": {},
     "output_type": "execute_result"
    }
   ],
   "source": [
    "df.shape"
   ]
  },
  {
   "cell_type": "code",
   "execution_count": 6,
   "id": "f13dc600-c065-4c47-a726-bf30956537ef",
   "metadata": {},
   "outputs": [
    {
     "name": "stdout",
     "output_type": "stream",
     "text": [
      "<class 'pandas.core.frame.DataFrame'>\n",
      "RangeIndex: 300153 entries, 0 to 300152\n",
      "Data columns (total 11 columns):\n",
      " #   Column            Non-Null Count   Dtype  \n",
      "---  ------            --------------   -----  \n",
      " 0   airline           300153 non-null  object \n",
      " 1   flight            300153 non-null  object \n",
      " 2   source_city       300153 non-null  object \n",
      " 3   departure_time    300153 non-null  object \n",
      " 4   stops             300153 non-null  object \n",
      " 5   arrival_time      300153 non-null  object \n",
      " 6   destination_city  300153 non-null  object \n",
      " 7   class             300153 non-null  object \n",
      " 8   duration          300153 non-null  float64\n",
      " 9   days_left         300153 non-null  int64  \n",
      " 10  price             300153 non-null  int64  \n",
      "dtypes: float64(1), int64(2), object(8)\n",
      "memory usage: 25.2+ MB\n"
     ]
    }
   ],
   "source": [
    "df.info()"
   ]
  },
  {
   "cell_type": "code",
   "execution_count": 7,
   "id": "dc9b7474-71e2-4c97-9191-98fcf61520b0",
   "metadata": {},
   "outputs": [
    {
     "data": {
      "text/html": [
       "<div>\n",
       "<style scoped>\n",
       "    .dataframe tbody tr th:only-of-type {\n",
       "        vertical-align: middle;\n",
       "    }\n",
       "\n",
       "    .dataframe tbody tr th {\n",
       "        vertical-align: top;\n",
       "    }\n",
       "\n",
       "    .dataframe thead th {\n",
       "        text-align: right;\n",
       "    }\n",
       "</style>\n",
       "<table border=\"1\" class=\"dataframe\">\n",
       "  <thead>\n",
       "    <tr style=\"text-align: right;\">\n",
       "      <th></th>\n",
       "      <th>duration</th>\n",
       "      <th>days_left</th>\n",
       "      <th>price</th>\n",
       "    </tr>\n",
       "  </thead>\n",
       "  <tbody>\n",
       "    <tr>\n",
       "      <th>count</th>\n",
       "      <td>300153.000000</td>\n",
       "      <td>300153.000000</td>\n",
       "      <td>300153.000000</td>\n",
       "    </tr>\n",
       "    <tr>\n",
       "      <th>mean</th>\n",
       "      <td>12.221021</td>\n",
       "      <td>26.004751</td>\n",
       "      <td>20889.660523</td>\n",
       "    </tr>\n",
       "    <tr>\n",
       "      <th>std</th>\n",
       "      <td>7.191997</td>\n",
       "      <td>13.561004</td>\n",
       "      <td>22697.767366</td>\n",
       "    </tr>\n",
       "    <tr>\n",
       "      <th>min</th>\n",
       "      <td>0.830000</td>\n",
       "      <td>1.000000</td>\n",
       "      <td>1105.000000</td>\n",
       "    </tr>\n",
       "    <tr>\n",
       "      <th>25%</th>\n",
       "      <td>6.830000</td>\n",
       "      <td>15.000000</td>\n",
       "      <td>4783.000000</td>\n",
       "    </tr>\n",
       "    <tr>\n",
       "      <th>50%</th>\n",
       "      <td>11.250000</td>\n",
       "      <td>26.000000</td>\n",
       "      <td>7425.000000</td>\n",
       "    </tr>\n",
       "    <tr>\n",
       "      <th>75%</th>\n",
       "      <td>16.170000</td>\n",
       "      <td>38.000000</td>\n",
       "      <td>42521.000000</td>\n",
       "    </tr>\n",
       "    <tr>\n",
       "      <th>max</th>\n",
       "      <td>49.830000</td>\n",
       "      <td>49.000000</td>\n",
       "      <td>123071.000000</td>\n",
       "    </tr>\n",
       "  </tbody>\n",
       "</table>\n",
       "</div>"
      ],
      "text/plain": [
       "            duration      days_left          price\n",
       "count  300153.000000  300153.000000  300153.000000\n",
       "mean       12.221021      26.004751   20889.660523\n",
       "std         7.191997      13.561004   22697.767366\n",
       "min         0.830000       1.000000    1105.000000\n",
       "25%         6.830000      15.000000    4783.000000\n",
       "50%        11.250000      26.000000    7425.000000\n",
       "75%        16.170000      38.000000   42521.000000\n",
       "max        49.830000      49.000000  123071.000000"
      ]
     },
     "execution_count": 7,
     "metadata": {},
     "output_type": "execute_result"
    }
   ],
   "source": [
    "df.describe()"
   ]
  },
  {
   "cell_type": "code",
   "execution_count": 8,
   "id": "b5162045-86bf-468f-8707-dd87d50a9fe5",
   "metadata": {},
   "outputs": [
    {
     "data": {
      "text/plain": [
       "airline             0\n",
       "flight              0\n",
       "source_city         0\n",
       "departure_time      0\n",
       "stops               0\n",
       "arrival_time        0\n",
       "destination_city    0\n",
       "class               0\n",
       "duration            0\n",
       "days_left           0\n",
       "price               0\n",
       "dtype: int64"
      ]
     },
     "execution_count": 8,
     "metadata": {},
     "output_type": "execute_result"
    }
   ],
   "source": [
    "df.isnull().sum()"
   ]
  },
  {
   "cell_type": "code",
   "execution_count": 9,
   "id": "df62d97f-62ad-4113-b904-43517d4620ba",
   "metadata": {},
   "outputs": [
    {
     "data": {
      "text/plain": [
       "Index(['airline', 'flight', 'source_city', 'departure_time', 'stops',\n",
       "       'arrival_time', 'destination_city', 'class', 'duration', 'days_left',\n",
       "       'price'],\n",
       "      dtype='object')"
      ]
     },
     "execution_count": 9,
     "metadata": {},
     "output_type": "execute_result"
    }
   ],
   "source": [
    "df.columns"
   ]
  },
  {
   "cell_type": "code",
   "execution_count": 10,
   "id": "0fc1f41c-b89a-4cc2-ab8d-3f4fc4fd67c2",
   "metadata": {},
   "outputs": [
    {
     "name": "stdout",
     "output_type": "stream",
     "text": [
      "Unique airline is: 6\n",
      "Unique flight is: 1561\n",
      "Unique source_city is: 6\n",
      "Unique departure_time is: 6\n",
      "Unique stops: 3\n",
      "arrival_time: 6\n"
     ]
    }
   ],
   "source": [
    "# Unique values in different columns\n",
    "airline = df.airline.nunique()\n",
    "flight = df.flight.nunique()\n",
    "source_city = df.source_city.nunique()\n",
    "departure_time = df.departure_time.nunique()\n",
    "stops = df.stops.nunique()\n",
    "arrival_time = df.arrival_time.nunique()\n",
    "\n",
    "# Print unique values\n",
    "print(f'Unique airline is:', airline)\n",
    "print(f'Unique flight is:', flight)\n",
    "print(f'Unique source_city is:', source_city)\n",
    "print(f'Unique departure_time is:', departure_time)\n",
    "print(f'Unique stops:', stops)\n",
    "print(f'arrival_time:', arrival_time)"
   ]
  },
  {
   "cell_type": "code",
   "execution_count": 11,
   "id": "999dbafc-fbbc-4ecf-b99e-a52b12dbbcbb",
   "metadata": {},
   "outputs": [],
   "source": [
    "numeric_col = df.select_dtypes(include=['float', 'int64'])\n",
    "character_col = df.select_dtypes(include = ['object'])"
   ]
  },
  {
   "cell_type": "code",
   "execution_count": 12,
   "id": "343f2ecb-51fa-4121-95fa-74b9a80160e4",
   "metadata": {},
   "outputs": [
    {
     "data": {
      "text/html": [
       "<div>\n",
       "<style scoped>\n",
       "    .dataframe tbody tr th:only-of-type {\n",
       "        vertical-align: middle;\n",
       "    }\n",
       "\n",
       "    .dataframe tbody tr th {\n",
       "        vertical-align: top;\n",
       "    }\n",
       "\n",
       "    .dataframe thead th {\n",
       "        text-align: right;\n",
       "    }\n",
       "</style>\n",
       "<table border=\"1\" class=\"dataframe\">\n",
       "  <thead>\n",
       "    <tr style=\"text-align: right;\">\n",
       "      <th></th>\n",
       "      <th>duration</th>\n",
       "      <th>days_left</th>\n",
       "      <th>price</th>\n",
       "    </tr>\n",
       "  </thead>\n",
       "  <tbody>\n",
       "    <tr>\n",
       "      <th>0</th>\n",
       "      <td>2.17</td>\n",
       "      <td>1</td>\n",
       "      <td>5953</td>\n",
       "    </tr>\n",
       "    <tr>\n",
       "      <th>1</th>\n",
       "      <td>2.33</td>\n",
       "      <td>1</td>\n",
       "      <td>5953</td>\n",
       "    </tr>\n",
       "    <tr>\n",
       "      <th>2</th>\n",
       "      <td>2.17</td>\n",
       "      <td>1</td>\n",
       "      <td>5956</td>\n",
       "    </tr>\n",
       "    <tr>\n",
       "      <th>3</th>\n",
       "      <td>2.25</td>\n",
       "      <td>1</td>\n",
       "      <td>5955</td>\n",
       "    </tr>\n",
       "    <tr>\n",
       "      <th>4</th>\n",
       "      <td>2.33</td>\n",
       "      <td>1</td>\n",
       "      <td>5955</td>\n",
       "    </tr>\n",
       "    <tr>\n",
       "      <th>...</th>\n",
       "      <td>...</td>\n",
       "      <td>...</td>\n",
       "      <td>...</td>\n",
       "    </tr>\n",
       "    <tr>\n",
       "      <th>300148</th>\n",
       "      <td>10.08</td>\n",
       "      <td>49</td>\n",
       "      <td>69265</td>\n",
       "    </tr>\n",
       "    <tr>\n",
       "      <th>300149</th>\n",
       "      <td>10.42</td>\n",
       "      <td>49</td>\n",
       "      <td>77105</td>\n",
       "    </tr>\n",
       "    <tr>\n",
       "      <th>300150</th>\n",
       "      <td>13.83</td>\n",
       "      <td>49</td>\n",
       "      <td>79099</td>\n",
       "    </tr>\n",
       "    <tr>\n",
       "      <th>300151</th>\n",
       "      <td>10.00</td>\n",
       "      <td>49</td>\n",
       "      <td>81585</td>\n",
       "    </tr>\n",
       "    <tr>\n",
       "      <th>300152</th>\n",
       "      <td>10.08</td>\n",
       "      <td>49</td>\n",
       "      <td>81585</td>\n",
       "    </tr>\n",
       "  </tbody>\n",
       "</table>\n",
       "<p>300153 rows × 3 columns</p>\n",
       "</div>"
      ],
      "text/plain": [
       "        duration  days_left  price\n",
       "0           2.17          1   5953\n",
       "1           2.33          1   5953\n",
       "2           2.17          1   5956\n",
       "3           2.25          1   5955\n",
       "4           2.33          1   5955\n",
       "...          ...        ...    ...\n",
       "300148     10.08         49  69265\n",
       "300149     10.42         49  77105\n",
       "300150     13.83         49  79099\n",
       "300151     10.00         49  81585\n",
       "300152     10.08         49  81585\n",
       "\n",
       "[300153 rows x 3 columns]"
      ]
     },
     "execution_count": 12,
     "metadata": {},
     "output_type": "execute_result"
    }
   ],
   "source": [
    "numeric_col"
   ]
  },
  {
   "cell_type": "code",
   "execution_count": 13,
   "id": "1afcd989-c5c1-4f98-9e3b-fc232c9539a7",
   "metadata": {},
   "outputs": [
    {
     "data": {
      "text/html": [
       "<div>\n",
       "<style scoped>\n",
       "    .dataframe tbody tr th:only-of-type {\n",
       "        vertical-align: middle;\n",
       "    }\n",
       "\n",
       "    .dataframe tbody tr th {\n",
       "        vertical-align: top;\n",
       "    }\n",
       "\n",
       "    .dataframe thead th {\n",
       "        text-align: right;\n",
       "    }\n",
       "</style>\n",
       "<table border=\"1\" class=\"dataframe\">\n",
       "  <thead>\n",
       "    <tr style=\"text-align: right;\">\n",
       "      <th></th>\n",
       "      <th>duration</th>\n",
       "      <th>days_left</th>\n",
       "      <th>price</th>\n",
       "    </tr>\n",
       "  </thead>\n",
       "  <tbody>\n",
       "    <tr>\n",
       "      <th>duration</th>\n",
       "      <td>1.000000</td>\n",
       "      <td>-0.039157</td>\n",
       "      <td>0.204222</td>\n",
       "    </tr>\n",
       "    <tr>\n",
       "      <th>days_left</th>\n",
       "      <td>-0.039157</td>\n",
       "      <td>1.000000</td>\n",
       "      <td>-0.091949</td>\n",
       "    </tr>\n",
       "    <tr>\n",
       "      <th>price</th>\n",
       "      <td>0.204222</td>\n",
       "      <td>-0.091949</td>\n",
       "      <td>1.000000</td>\n",
       "    </tr>\n",
       "  </tbody>\n",
       "</table>\n",
       "</div>"
      ],
      "text/plain": [
       "           duration  days_left     price\n",
       "duration   1.000000  -0.039157  0.204222\n",
       "days_left -0.039157   1.000000 -0.091949\n",
       "price      0.204222  -0.091949  1.000000"
      ]
     },
     "execution_count": 13,
     "metadata": {},
     "output_type": "execute_result"
    }
   ],
   "source": [
    "numeric_col.corr()"
   ]
  },
  {
   "cell_type": "code",
   "execution_count": 14,
   "id": "49e7d151-51db-45d9-afd0-b3d2431a00ba",
   "metadata": {},
   "outputs": [
    {
     "data": {
      "text/html": [
       "<div>\n",
       "<style scoped>\n",
       "    .dataframe tbody tr th:only-of-type {\n",
       "        vertical-align: middle;\n",
       "    }\n",
       "\n",
       "    .dataframe tbody tr th {\n",
       "        vertical-align: top;\n",
       "    }\n",
       "\n",
       "    .dataframe thead th {\n",
       "        text-align: right;\n",
       "    }\n",
       "</style>\n",
       "<table border=\"1\" class=\"dataframe\">\n",
       "  <thead>\n",
       "    <tr style=\"text-align: right;\">\n",
       "      <th></th>\n",
       "      <th>airline</th>\n",
       "      <th>flight</th>\n",
       "      <th>source_city</th>\n",
       "      <th>departure_time</th>\n",
       "      <th>stops</th>\n",
       "      <th>arrival_time</th>\n",
       "      <th>destination_city</th>\n",
       "      <th>class</th>\n",
       "    </tr>\n",
       "  </thead>\n",
       "  <tbody>\n",
       "    <tr>\n",
       "      <th>0</th>\n",
       "      <td>SpiceJet</td>\n",
       "      <td>SG-8709</td>\n",
       "      <td>Delhi</td>\n",
       "      <td>Evening</td>\n",
       "      <td>zero</td>\n",
       "      <td>Night</td>\n",
       "      <td>Mumbai</td>\n",
       "      <td>Economy</td>\n",
       "    </tr>\n",
       "    <tr>\n",
       "      <th>1</th>\n",
       "      <td>SpiceJet</td>\n",
       "      <td>SG-8157</td>\n",
       "      <td>Delhi</td>\n",
       "      <td>Early_Morning</td>\n",
       "      <td>zero</td>\n",
       "      <td>Morning</td>\n",
       "      <td>Mumbai</td>\n",
       "      <td>Economy</td>\n",
       "    </tr>\n",
       "    <tr>\n",
       "      <th>2</th>\n",
       "      <td>AirAsia</td>\n",
       "      <td>I5-764</td>\n",
       "      <td>Delhi</td>\n",
       "      <td>Early_Morning</td>\n",
       "      <td>zero</td>\n",
       "      <td>Early_Morning</td>\n",
       "      <td>Mumbai</td>\n",
       "      <td>Economy</td>\n",
       "    </tr>\n",
       "    <tr>\n",
       "      <th>3</th>\n",
       "      <td>Vistara</td>\n",
       "      <td>UK-995</td>\n",
       "      <td>Delhi</td>\n",
       "      <td>Morning</td>\n",
       "      <td>zero</td>\n",
       "      <td>Afternoon</td>\n",
       "      <td>Mumbai</td>\n",
       "      <td>Economy</td>\n",
       "    </tr>\n",
       "    <tr>\n",
       "      <th>4</th>\n",
       "      <td>Vistara</td>\n",
       "      <td>UK-963</td>\n",
       "      <td>Delhi</td>\n",
       "      <td>Morning</td>\n",
       "      <td>zero</td>\n",
       "      <td>Morning</td>\n",
       "      <td>Mumbai</td>\n",
       "      <td>Economy</td>\n",
       "    </tr>\n",
       "    <tr>\n",
       "      <th>...</th>\n",
       "      <td>...</td>\n",
       "      <td>...</td>\n",
       "      <td>...</td>\n",
       "      <td>...</td>\n",
       "      <td>...</td>\n",
       "      <td>...</td>\n",
       "      <td>...</td>\n",
       "      <td>...</td>\n",
       "    </tr>\n",
       "    <tr>\n",
       "      <th>300148</th>\n",
       "      <td>Vistara</td>\n",
       "      <td>UK-822</td>\n",
       "      <td>Chennai</td>\n",
       "      <td>Morning</td>\n",
       "      <td>one</td>\n",
       "      <td>Evening</td>\n",
       "      <td>Hyderabad</td>\n",
       "      <td>Business</td>\n",
       "    </tr>\n",
       "    <tr>\n",
       "      <th>300149</th>\n",
       "      <td>Vistara</td>\n",
       "      <td>UK-826</td>\n",
       "      <td>Chennai</td>\n",
       "      <td>Afternoon</td>\n",
       "      <td>one</td>\n",
       "      <td>Night</td>\n",
       "      <td>Hyderabad</td>\n",
       "      <td>Business</td>\n",
       "    </tr>\n",
       "    <tr>\n",
       "      <th>300150</th>\n",
       "      <td>Vistara</td>\n",
       "      <td>UK-832</td>\n",
       "      <td>Chennai</td>\n",
       "      <td>Early_Morning</td>\n",
       "      <td>one</td>\n",
       "      <td>Night</td>\n",
       "      <td>Hyderabad</td>\n",
       "      <td>Business</td>\n",
       "    </tr>\n",
       "    <tr>\n",
       "      <th>300151</th>\n",
       "      <td>Vistara</td>\n",
       "      <td>UK-828</td>\n",
       "      <td>Chennai</td>\n",
       "      <td>Early_Morning</td>\n",
       "      <td>one</td>\n",
       "      <td>Evening</td>\n",
       "      <td>Hyderabad</td>\n",
       "      <td>Business</td>\n",
       "    </tr>\n",
       "    <tr>\n",
       "      <th>300152</th>\n",
       "      <td>Vistara</td>\n",
       "      <td>UK-822</td>\n",
       "      <td>Chennai</td>\n",
       "      <td>Morning</td>\n",
       "      <td>one</td>\n",
       "      <td>Evening</td>\n",
       "      <td>Hyderabad</td>\n",
       "      <td>Business</td>\n",
       "    </tr>\n",
       "  </tbody>\n",
       "</table>\n",
       "<p>300153 rows × 8 columns</p>\n",
       "</div>"
      ],
      "text/plain": [
       "         airline   flight source_city departure_time stops   arrival_time  \\\n",
       "0       SpiceJet  SG-8709       Delhi        Evening  zero          Night   \n",
       "1       SpiceJet  SG-8157       Delhi  Early_Morning  zero        Morning   \n",
       "2        AirAsia   I5-764       Delhi  Early_Morning  zero  Early_Morning   \n",
       "3        Vistara   UK-995       Delhi        Morning  zero      Afternoon   \n",
       "4        Vistara   UK-963       Delhi        Morning  zero        Morning   \n",
       "...          ...      ...         ...            ...   ...            ...   \n",
       "300148   Vistara   UK-822     Chennai        Morning   one        Evening   \n",
       "300149   Vistara   UK-826     Chennai      Afternoon   one          Night   \n",
       "300150   Vistara   UK-832     Chennai  Early_Morning   one          Night   \n",
       "300151   Vistara   UK-828     Chennai  Early_Morning   one        Evening   \n",
       "300152   Vistara   UK-822     Chennai        Morning   one        Evening   \n",
       "\n",
       "       destination_city     class  \n",
       "0                Mumbai   Economy  \n",
       "1                Mumbai   Economy  \n",
       "2                Mumbai   Economy  \n",
       "3                Mumbai   Economy  \n",
       "4                Mumbai   Economy  \n",
       "...                 ...       ...  \n",
       "300148        Hyderabad  Business  \n",
       "300149        Hyderabad  Business  \n",
       "300150        Hyderabad  Business  \n",
       "300151        Hyderabad  Business  \n",
       "300152        Hyderabad  Business  \n",
       "\n",
       "[300153 rows x 8 columns]"
      ]
     },
     "execution_count": 14,
     "metadata": {},
     "output_type": "execute_result"
    }
   ],
   "source": [
    "character_col"
   ]
  },
  {
   "cell_type": "code",
   "execution_count": 15,
   "id": "ba456ac0-aa16-4485-813d-6bb97f34df9c",
   "metadata": {},
   "outputs": [
    {
     "data": {
      "image/png": "[encoded data removed]",
      "text/plain": [
       "<Figure size 640x480 with 1 Axes>"
      ]
     },
     "metadata": {},
     "output_type": "display_data"
    },
    {
     "data": {
      "text/plain": [
       "<Figure size 800x600 with 0 Axes>"
      ]
     },
     "metadata": {},
     "output_type": "display_data"
    }
   ],
   "source": [
    "sns.barplot(data=df, x=\"duration\", y=\"stops\", palette=\"Set2\")\n",
    "\n",
    "plt.title(\"Distribution of Duration by Stops\")  \n",
    "plt.xlabel(\"Duration\") \n",
    "plt.ylabel(\"Stops Count\") \n",
    "plt.xticks(rotation=45)  \n",
    "sns.set_style(\"whitegrid\") \n",
    "plt.grid(axis='y', linestyle='--', alpha=0.7)  \n",
    "plt.figure(figsize=(8, 6))  \n",
    "\n",
    "plt.tight_layout()  \n",
    "plt.show()"
   ]
  },
  {
   "cell_type": "code",
   "execution_count": 16,
   "id": "b72fd6c1-113d-43a6-bfbc-f038a7d1e8e8",
   "metadata": {},
   "outputs": [
    {
     "data": {
      "image/png": "[encoded data removed]",
      "text/plain": [
       "<Figure size 640x480 with 1 Axes>"
      ]
     },
     "metadata": {},
     "output_type": "display_data"
    },
    {
     "data": {
      "text/plain": [
       "<Figure size 800x600 with 0 Axes>"
      ]
     },
     "metadata": {},
     "output_type": "display_data"
    }
   ],
   "source": [
    "sns.barplot(data=df, x=\"duration\", y=\"class\", palette=\"Set2\")\n",
    "\n",
    "plt.title(\"Distribution of Class by \")  \n",
    "plt.xlabel(\"Duration\") \n",
    "plt.ylabel(\"Class Count\") \n",
    "plt.xticks(rotation=45)  \n",
    "sns.set_style(\"whitegrid\") \n",
    "plt.grid(axis='y', linestyle='--', alpha=0.7)  \n",
    "plt.figure(figsize=(8, 6))  \n",
    "\n",
    "plt.tight_layout()  \n",
    "plt.show()"
   ]
  },
  {
   "cell_type": "code",
   "execution_count": 17,
   "id": "c6f1eb6f-5c02-4a4d-80ba-77a1ab1fbd18",
   "metadata": {},
   "outputs": [
    {
     "data": {
      "image/png": "[encoded data removed]",
      "text/plain": [
       "<Figure size 640x480 with 1 Axes>"
      ]
     },
     "metadata": {},
     "output_type": "display_data"
    },
    {
     "data": {
      "text/plain": [
       "<Figure size 800x600 with 0 Axes>"
      ]
     },
     "metadata": {},
     "output_type": "display_data"
    }
   ],
   "source": [
    "sns.barplot(data=df, x=\"airline\", y=\"duration\", palette=\"Set2\")\n",
    "\n",
    "plt.title(\"Distribution of Airline & Duration \")  \n",
    "plt.xlabel(\"Airline\") \n",
    "plt.ylabel(\"Duration Count\") \n",
    "plt.xticks(rotation=45)  \n",
    "sns.set_style(\"whitegrid\") \n",
    "plt.grid(axis='y', linestyle='--', alpha=0.7)  \n",
    "plt.figure(figsize=(8, 6))  \n",
    "\n",
    "plt.tight_layout()  \n",
    "plt.show()"
   ]
  },
  {
   "cell_type": "code",
   "execution_count": 18,
   "id": "23331b6d-28e6-46ab-b0ad-e6c8276cee1b",
   "metadata": {},
   "outputs": [
    {
     "data": {
      "text/plain": [
       "Index(['airline', 'flight', 'source_city', 'departure_time', 'stops',\n",
       "       'arrival_time', 'destination_city', 'class'],\n",
       "      dtype='object')"
      ]
     },
     "execution_count": 18,
     "metadata": {},
     "output_type": "execute_result"
    }
   ],
   "source": [
    "character_col.columns"
   ]
  },
  {
   "cell_type": "code",
   "execution_count": 19,
   "id": "bd9ea275-95f8-4f14-ad50-99702326cdb8",
   "metadata": {},
   "outputs": [],
   "source": [
    "# Encoding\n",
    "airline_encode = LabelEncoder()\n",
    "flight_encode = LabelEncoder()\n",
    "source_city_encode = LabelEncoder()\n",
    "departure_time_encode = LabelEncoder()\n",
    "stops_encode = LabelEncoder()\n",
    "arrival_time_encode = LabelEncoder()\n",
    "destination_city_encode = LabelEncoder()\n",
    "class_encode = LabelEncoder()\n",
    "\n",
    "df['airline'] = airline_encode.fit_transform(df['airline'])\n",
    "df['flight'] = flight_encode.fit_transform(df['flight'])\n",
    "df['source_city'] = source_city_encode.fit_transform(df['source_city'])\n",
    "df['departure_time'] = departure_time_encode.fit_transform(df['departure_time'])\n",
    "df['stops'] = stops_encode.fit_transform(df['stops'])\n",
    "df['arrival_time'] = arrival_time_encode.fit_transform(df['arrival_time'])\n",
    "df['destination_city'] = destination_city_encode.fit_transform(df['destination_city'])\n",
    "df['class'] = class_encode.fit_transform(df['class'])"
   ]
  },
  {
   "cell_type": "code",
   "execution_count": 20,
   "id": "cb6b1691-c924-4668-a0e2-9e7f0601a0f6",
   "metadata": {},
   "outputs": [],
   "source": [
    "# Split data\n",
    "X = df.iloc[:,:-1]\n",
    "y = df.iloc[:,-1]\n",
    "X_train, X_test, y_train, y_test = train_test_split(X, y, test_size = 0.2, random_state = 42)"
   ]
  },
  {
   "cell_type": "code",
   "execution_count": 21,
   "id": "f147a85b-01e4-4db5-ba3f-a19c2579a3b8",
   "metadata": {},
   "outputs": [],
   "source": [
    "# Train Model with mlflow\n",
    "\n",
    "with mlflow.start_run():\n",
    "    model = DecisionTreeRegressor(criterion='squared_error',\n",
    "    splitter='random',\n",
    "    max_depth=None,\n",
    "    min_samples_split=4,\n",
    "    min_samples_leaf=3,)\n",
    "    \n",
    "    model.fit(X_train, y_train)"
   ]
  },
  {
   "cell_type": "code",
   "execution_count": 22,
   "id": "7c1628f3-ccdb-4c8e-b12b-44d26e35fd39",
   "metadata": {},
   "outputs": [],
   "source": [
    "score = model.score(X_train, y_train)*100, model.score(X_test, y_test)*100"
   ]
  },
  {
   "cell_type": "code",
   "execution_count": 23,
   "id": "f201a3b1-9a1f-4587-8e74-44eea7c3f7f9",
   "metadata": {},
   "outputs": [],
   "source": [
    "y_pred = model.predict(X_test)\n",
    "mse = mean_squared_error(y_pred, y_test)\n",
    "mae = mean_absolute_error(y_pred, y_test)\n",
    "r2 = r2_score(y_pred, y_test)"
   ]
  },
  {
   "cell_type": "code",
   "execution_count": 24,
   "id": "b0c7b78a-1f52-4224-95f5-da0dcf27b939",
   "metadata": {},
   "outputs": [
    {
     "name": "stdout",
     "output_type": "stream",
     "text": [
      "R2 Score: 0.9849289921633948\n",
      "Mean Squared Error: 7692683.758609427\n",
      "Mean Absolute Error: 1134.5026095062515\n",
      "Model Score:(99.17263274670509, 98.50767249369213)\n"
     ]
    }
   ],
   "source": [
    "print(f\"R2 Score: {r2}\")\n",
    "print(f\"Mean Squared Error: {mse}\")\n",
    "print(f\"Mean Absolute Error: {mae}\")\n",
    "print(f'Model Score:{score}')"
   ]
  },
  {
   "cell_type": "code",
   "execution_count": 25,
   "id": "7cae5c0a-0d52-4ed0-9753-84f73818cdb0",
   "metadata": {},
   "outputs": [],
   "source": [
    "mlflow.log_metric('Mean Squared Error', mse)\n",
    "mlflow.log_metric('Absolute Mean Error',mae)\n",
    "mlflow.log_metric('R2 Score', r2)"
   ]
  },
  {
   "cell_type": "code",
   "execution_count": 26,
   "id": "411e9807-dcf8-43c9-b295-a711ab2ae996",
   "metadata": {},
   "outputs": [
    {
     "data": {
      "text/plain": [
       "4"
      ]
     },
     "execution_count": 26,
     "metadata": {},
     "output_type": "execute_result"
    }
   ],
   "source": [
    "mlflow.log_param('criterian','squared_error')\n",
    "mlflow.log_param('splitter','random')\n",
    "mlflow.log_param('max_depth',None)\n",
    "mlflow.log_param('min_samples_split',4)\n",
    "mlflow.log_param('min_samples_leaf',4)"
   ]
  },
  {
   "cell_type": "code",
   "execution_count": 27,
   "id": "cf8575ea-2f48-4460-951b-1c1b6adcc6c3",
   "metadata": {},
   "outputs": [
    {
     "name": "stderr",
     "output_type": "stream",
     "text": [
      "2024/08/09 15:25:17 WARNING mlflow.models.model: Input example should be provided to infer model signature if the model signature is not provided when logging the model.\n"
     ]
    },
    {
     "data": {
      "text/plain": [
       "<mlflow.models.model.ModelInfo at 0x21d80e0e310>"
      ]
     },
     "execution_count": 27,
     "metadata": {},
     "output_type": "execute_result"
    }
   ],
   "source": [
    "mlflow.set_tag(\"Model type\", 'Regression model')\n",
    "mlflow.set_tag('algorithm', 'Decesion Tree Regressor')\n",
    "mlflow.set_tag('Data Size', len(df))\n",
    "mlflow.set_tag('Random_State','42')\n",
    "mlflow.sklearn.log_model(model,'Decesion Tree')"
   ]
  },
  {
   "cell_type": "code",
   "execution_count": 28,
   "id": "4549b3c8-638c-49af-ae12-7be51d206da8",
   "metadata": {},
   "outputs": [],
   "source": [
    "mlflow.end_run(status=\"FINISHED\")"
   ]
  },
  {
   "cell_type": "code",
   "execution_count": 29,
   "id": "2ab327a4-36e9-4a10-801e-d61961c23bf4",
   "metadata": {},
   "outputs": [],
   "source": [
    "joblib.dump(airline_encode,'airline_encode')\n",
    "joblib.dump(flight_encode,'flight_encode')\n",
    "joblib.dump(source_city_encode,'source_city_encode')\n",
    "joblib.dump(departure_time_encode,'departure_time_encode')\n",
    "joblib.dump(stops_encode,'stops_encode')\n",
    "joblib.dump(arrival_time_encode,'arrival_time_encode')\n",
    "joblib.dump(destination_city_encode,'destination_city_encode')\n",
    "joblib.dump(class_encode,'class_encode')\n",
    "joblib.dump(model, 'flight_model.joblib')"
   ]
  },
  {
   "cell_type": "markdown",
   "id": "d7f84d82-5000-45a9-8438-d0c0f744d9e6",
   "metadata": {},
   "source": [
    "# Pull Image from dockerhub:   \n",
    "**docker pull orhfusion/battle_prediction_simulator**\n",
    "\n",
    "{run without installing any dependencies & no need to create environment for it...}\n",
    "\n",
    "# Or you can refer to my GitHub repository to get files:   \n",
    "https://github.com/OrhFusion/Flight-ML-Model.git\n",
    "\n",
    "\n",
    "* Flask\n",
    "* Html\n",
    "* Dockerfile\n",
    "* app.py\n",
    "* Details\n",
    "* Dependencies (requirements.txt)\n",
    "\n",
    "Exposed: Port = 5000."
   ]
  },
  {
   "cell_type": "code",
   "execution_count": null,
   "id": "b198f950-994a-485f-a141-d7d63a8c1c94",
   "metadata": {},
   "outputs": [],
   "source": []
  }
 ],
 "metadata": {
  "kernelspec": {
   "display_name": "Python 3 (ipykernel)",
   "language": "python",
   "name": "python3"
  },
  "language_info": {
   "codemirror_mode": {
    "name": "ipython",
    "version": 3
   },
   "file_extension": ".py",
   "mimetype": "text/x-python",
   "name": "python",
   "nbconvert_exporter": "python",
   "pygments_lexer": "ipython3",
   "version": "3.11.7"
  }
 },
 "nbformat": 4,
 "nbformat_minor": 5
}
